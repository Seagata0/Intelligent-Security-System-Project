{
  "nbformat": 4,
  "nbformat_minor": 0,
  "metadata": {
    "colab": {
      "provenance": []
    },
    "kernelspec": {
      "name": "python3",
      "display_name": "Python 3"
    },
    "language_info": {
      "name": "python"
    }
  },
  "cells": [
    {
      "cell_type": "markdown",
      "source": [
        "# **Anggota Kelompok**\n",
        "*   ## Seagata Ade Pratama Barus (1301210371)\n",
        "*   ## Andi Ahmad Ramadhan Makmur Perkasa (1301213166)"
      ],
      "metadata": {
        "id": "ljJEksJYxiqg"
      }
    },
    {
      "cell_type": "markdown",
      "source": [
        "# **Paper**\n",
        "*   https://www.hindawi.com/journals/wcmc/2020/8838571/\n",
        "*   https://search.informit.org/doi/abs/10.3316/informit.263296849285942\n",
        "*   https://www.scopus.com/record/display.uri?eid=2-s2.0-85189918564&origin=resultslist&sort=plf-f&src=s&sid=80da78a6ad8795c693fcd5403b73626c&sot=b&sdt=b&s=TITLE-ABS-KEY%28IOT+malware+detection%29&sl=36&sessionSearchId=80da78a6ad8795c693fcd5403b73626c&relpos=0\n",
        "\n"
      ],
      "metadata": {
        "id": "so3Ej7rFr_9_"
      }
    },
    {
      "cell_type": "markdown",
      "source": [
        "# **Dataset**\n",
        "https://www.kaggle.com/datasets/agungpambudi/network-malware-detection-connection-analysis/data?select=CTU-IoT-Malware-Capture-1-1conn.log.labeled.csv"
      ],
      "metadata": {
        "id": "pSe0faJVxeJI"
      }
    },
    {
      "cell_type": "code",
      "execution_count": null,
      "metadata": {
        "colab": {
          "base_uri": "https://localhost:8080/"
        },
        "id": "r5EU37JfEnlA",
        "outputId": "97e2dff0-7bd7-46bf-9519-34162db0681d"
      },
      "outputs": [
        {
          "output_type": "stream",
          "name": "stdout",
          "text": [
            "--2024-05-01 15:04:14--  https://drive.google.com/file/d/1sx3Uk47UBIeFBOiMb30LwCB8fuFCTw46/view?usp=sharing\n",
            "Resolving drive.google.com (drive.google.com)... 142.251.107.102, 142.251.107.138, 142.251.107.139, ...\n",
            "Connecting to drive.google.com (drive.google.com)|142.251.107.102|:443... connected.\n",
            "HTTP request sent, awaiting response... 200 OK\n",
            "Length: unspecified [text/html]\n",
            "Saving to: ‘/content/datasetDariYuukaSayang.csv’\n",
            "\n",
            "/content/datasetDar     [ <=>                ]  83.86K  --.-KB/s    in 0.006s  \n",
            "\n",
            "2024-05-01 15:04:15 (12.9 MB/s) - ‘/content/datasetDariYuukaSayang.csv’ saved [85875]\n",
            "\n"
          ]
        }
      ],
      "source": [
        "!wget -O /content/datasetDariYuukaSayang.csv \"https://drive.google.com/file/d/1sx3Uk47UBIeFBOiMb30LwCB8fuFCTw46/view?usp=sharing\""
      ]
    },
    {
      "cell_type": "markdown",
      "source": [
        "# **Exploratory Data Analysis (EDA)**"
      ],
      "metadata": {
        "id": "1ARqvaJLyOs-"
      }
    },
    {
      "cell_type": "markdown",
      "source": [
        "# **Preprocessing Data**"
      ],
      "metadata": {
        "id": "9iNvdVNeySmY"
      }
    },
    {
      "cell_type": "markdown",
      "source": [
        "# **Model**"
      ],
      "metadata": {
        "id": "0KGS7Gq2yXGn"
      }
    },
    {
      "cell_type": "markdown",
      "source": [
        "## Support Vector Machine (SVM)"
      ],
      "metadata": {
        "id": "By1Xyhb7yYv6"
      }
    },
    {
      "cell_type": "markdown",
      "source": [
        "## Isolation Forest"
      ],
      "metadata": {
        "id": "NURbtyviyn2d"
      }
    },
    {
      "cell_type": "markdown",
      "source": [
        "## XGBoost"
      ],
      "metadata": {
        "id": "iol6q_Ury_ip"
      }
    },
    {
      "cell_type": "markdown",
      "source": [
        "## Long Short-Term Memory (LSTM)"
      ],
      "metadata": {
        "id": "piZCbv8uzE8b"
      }
    },
    {
      "cell_type": "markdown",
      "source": [
        "## Naïve Bayes"
      ],
      "metadata": {
        "id": "sRQW3URjzMYs"
      }
    },
    {
      "cell_type": "markdown",
      "source": [
        "# **Kesimpulan**"
      ],
      "metadata": {
        "id": "wI5K0WyWzQvl"
      }
    }
  ]
}